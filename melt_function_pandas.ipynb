{
  "nbformat": 4,
  "nbformat_minor": 0,
  "metadata": {
    "colab": {
      "provenance": [],
      "authorship_tag": "ABX9TyNCkWxvK5j0d91/0MWKOsb9",
      "include_colab_link": true
    },
    "kernelspec": {
      "name": "python3",
      "display_name": "Python 3"
    },
    "language_info": {
      "name": "python"
    }
  },
  "cells": [
    {
      "cell_type": "markdown",
      "metadata": {
        "id": "view-in-github",
        "colab_type": "text"
      },
      "source": [
        "<a href=\"https://colab.research.google.com/github/SwethaG-29/LeetCode_Python_Problems/blob/main/melt_function_pandas.ipynb\" target=\"_parent\"><img src=\"https://colab.research.google.com/assets/colab-badge.svg\" alt=\"Open In Colab\"/></a>"
      ]
    },
    {
      "cell_type": "code",
      "execution_count": null,
      "metadata": {
        "id": "RB7ux0wMsDOi"
      },
      "outputs": [],
      "source": [
        "DataFrame report\n",
        "+-------------+--------+\n",
        "| Column Name | Type   |\n",
        "+-------------+--------+\n",
        "| product     | object |\n",
        "| quarter_1   | int    |\n",
        "| quarter_2   | int    |\n",
        "| quarter_3   | int    |\n",
        "| quarter_4   | int    |\n",
        "+-------------+--------+\n",
        "Write a solution to reshape the data so that each row represents sales data for a product in a specific quarter.\n",
        "\n",
        "The result format is in the following example.\n",
        "\n",
        "\n",
        "\n",
        "Example 1:\n",
        "\n",
        "Input:\n",
        "+-------------+-----------+-----------+-----------+-----------+\n",
        "| product     | quarter_1 | quarter_2 | quarter_3 | quarter_4 |\n",
        "+-------------+-----------+-----------+-----------+-----------+\n",
        "| Umbrella    | 417       | 224       | 379       | 611       |\n",
        "| SleepingBag | 800       | 936       | 93        | 875       |\n",
        "+-------------+-----------+-----------+-----------+-----------+\n",
        "Output:\n",
        "+-------------+-----------+-------+\n",
        "| product     | quarter   | sales |\n",
        "+-------------+-----------+-------+\n",
        "| Umbrella    | quarter_1 | 417   |\n",
        "| SleepingBag | quarter_1 | 800   |\n",
        "| Umbrella    | quarter_2 | 224   |\n",
        "| SleepingBag | quarter_2 | 936   |\n",
        "| Umbrella    | quarter_3 | 379   |\n",
        "| SleepingBag | quarter_3 | 93    |\n",
        "| Umbrella    | quarter_4 | 611   |\n",
        "| SleepingBag | quarter_4 | 875   |\n",
        "+-------------+-----------+-------+\n",
        "Explanation:\n",
        "The DataFrame is reshaped from wide to long format. Each row represents the sales of a product in a quarter.\n"
      ]
    },
    {
      "cell_type": "code",
      "source": [
        "import pandas as pd\n",
        "\n",
        "report.melt(id_vars = \"product\", value_vars = [\"quarter_1\", \"quarter_2\", \"quarter_3\", \"quarter_4\"], var_name =\"quarter\", value_name = \"sales\" )"
      ],
      "metadata": {
        "id": "qr1kCiXCsO7c"
      },
      "execution_count": null,
      "outputs": []
    },
    {
      "cell_type": "markdown",
      "source": [],
      "metadata": {
        "id": "U8C09pVmsD-F"
      }
    }
  ]
}