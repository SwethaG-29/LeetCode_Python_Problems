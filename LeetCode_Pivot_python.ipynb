{
  "nbformat": 4,
  "nbformat_minor": 0,
  "metadata": {
    "colab": {
      "provenance": [],
      "authorship_tag": "ABX9TyOETKD/25dxUQEPtiMvfBYG",
      "include_colab_link": true
    },
    "kernelspec": {
      "name": "python3",
      "display_name": "Python 3"
    },
    "language_info": {
      "name": "python"
    }
  },
  "cells": [
    {
      "cell_type": "markdown",
      "metadata": {
        "id": "view-in-github",
        "colab_type": "text"
      },
      "source": [
        "<a href=\"https://colab.research.google.com/github/SwethaG-29/LeetCode_Python_Problems/blob/main/LeetCode_Pivot_python.ipynb\" target=\"_parent\"><img src=\"https://colab.research.google.com/assets/colab-badge.svg\" alt=\"Open In Colab\"/></a>"
      ]
    },
    {
      "cell_type": "code",
      "execution_count": null,
      "metadata": {
        "id": "OnvmZ-3PpvIl"
      },
      "outputs": [],
      "source": []
    },
    {
      "cell_type": "markdown",
      "source": [
        "DataFrame weather\n",
        "+-------------+--------+\n",
        "| Column Name | Type   |\n",
        "+-------------+--------+\n",
        "| city        | object |\n",
        "| month       | object |\n",
        "| temperature | int    |\n",
        "+-------------+--------+\n",
        "Write a solution to pivot the data so that each row represents temperatures for a specific month, and each city is a separate column.\n",
        "\n",
        "The result format is in the following example.\n",
        "\n",
        "\n",
        "\n",
        "Example 1:\n",
        "Input:\n",
        "+--------------+----------+-------------+\n",
        "| city         | month    | temperature |\n",
        "+--------------+----------+-------------+\n",
        "| Jacksonville | January  | 13          |\n",
        "| Jacksonville | February | 23          |\n",
        "| Jacksonville | March    | 38          |\n",
        "| Jacksonville | April    | 5           |\n",
        "| Jacksonville | May      | 34          |\n",
        "| ElPaso       | January  | 20          |\n",
        "| ElPaso       | February | 6           |\n",
        "| ElPaso       | March    | 26          |\n",
        "| ElPaso       | April    | 2           |\n",
        "| ElPaso       | May      | 43          |\n",
        "+--------------+----------+-------------+\n",
        "Output:\n",
        "+----------+--------+--------------+\n",
        "| month    | ElPaso | Jacksonville |\n",
        "+----------+--------+--------------+\n",
        "| April    | 2      | 5            |\n",
        "| February | 6      | 23           |\n",
        "| January  | 20     | 13           |\n",
        "| March    | 26     | 38           |\n",
        "| May      | 43     | 34           |\n",
        "+----------+--------+--------------+\n",
        "Explanation:\n",
        "The table is pivoted, each column represents a city, and each row represents a specific month."
      ],
      "metadata": {
        "id": "-kER18tFqauv"
      }
    },
    {
      "cell_type": "code",
      "source": [
        "df.pivot(index = \"month\", columns = \"city\" ,values = \"temperature\")\n",
        "\n",
        "return weather.pivot_table(index = 'month',columns = 'city',values = 'temperature')"
      ],
      "metadata": {
        "id": "nGKlM90Bp6Nb"
      },
      "execution_count": 1,
      "outputs": []
    }
  ]
}